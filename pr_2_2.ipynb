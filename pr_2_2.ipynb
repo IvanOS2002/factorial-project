{
 "cells": [
  {
   "cell_type": "code",
   "execution_count": 1,
   "id": "7a3fd208-38e8-4bb6-91a4-225faed59fd4",
   "metadata": {},
   "outputs": [
    {
     "name": "stdout",
     "output_type": "stream",
     "text": [
      "Factorial 0 = 1\n",
      "Factorial 1 = 1\n",
      "Factorial 2 = 2\n",
      "Factorial 3 = 6\n",
      "Factorial 4 = 24\n"
     ]
    },
    {
     "name": "stdin",
     "output_type": "stream",
     "text": [
      "Number for factorial calc:  5\n"
     ]
    },
    {
     "name": "stdout",
     "output_type": "stream",
     "text": [
      "Factorial 5 = 120\n"
     ]
    }
   ],
   "source": [
    "def factorial(n):\n",
    "    if n == 0 or n == 1:\n",
    "        return 1\n",
    "    else:\n",
    "        return n * factorial(n-1)\n",
    "\n",
    "#check\n",
    "for i in range(5):\n",
    "    print(f\"Factorial {i} = {factorial(i)}\")\n",
    "\n",
    "#interactive input\n",
    "number = int(input(\"Number for factorial calc: \"))\n",
    "print(f\"Factorial {number} = {factorial(number)}\")"
   ]
  },
  {
   "cell_type": "code",
   "execution_count": null,
   "id": "63f9fe8e-8161-4bee-b0bf-db95c639b1fc",
   "metadata": {},
   "outputs": [],
   "source": []
  }
 ],
 "metadata": {
  "kernelspec": {
   "display_name": "Python 3 (ipykernel)",
   "language": "python",
   "name": "python3"
  },
  "language_info": {
   "codemirror_mode": {
    "name": "ipython",
    "version": 3
   },
   "file_extension": ".py",
   "mimetype": "text/x-python",
   "name": "python",
   "nbconvert_exporter": "python",
   "pygments_lexer": "ipython3",
   "version": "3.12.5"
  }
 },
 "nbformat": 4,
 "nbformat_minor": 5
}
